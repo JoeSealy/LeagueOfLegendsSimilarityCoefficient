{
 "cells": [
  {
   "cell_type": "code",
   "execution_count": null,
   "metadata": {
    "scrolled": true
   },
   "outputs": [],
   "source": [
    "import os\n",
    "import numpy as np\n",
    "from sklearn.metrics import jaccard_score   \n",
    "from sklearn.metrics.pairwise import cosine_similarity"
   ]
  },
  {
   "cell_type": "code",
   "execution_count": null,
   "metadata": {},
   "outputs": [],
   "source": [
    "compare_list = {}\n",
    "\"\"\"\"for i in range(1, 56):\"\"\"\n",
    "\n",
    "\n",
    "path = (\"Data-LoL-Research-Simplified/User1/BothOut\")\n",
    "all_files = os.listdir(path)\n",
    "for fle in all_files:\n",
    "   # open the file and then call .read() to get the text\n",
    "   with open(os.path.join(path, fle)) as f:\n",
    "    text = f.read()\n",
    "    "
   ]
  },
  {
   "cell_type": "code",
   "execution_count": null,
   "metadata": {},
   "outputs": [],
   "source": [
    "path = \"Data-LoL-Research Simplified/User2/BothOut\"\n",
    "all_files = os.listdir(path)\n",
    "for fle in all_files:\n",
    "   # open the file and then call .read() to get the text\n",
    "   with open(os.path.join(path, fle)) as f:\n",
    "    text = f.read()\n",
    "    \n",
    "    jaccard_score(text,text1)"
   ]
  },
  {
   "cell_type": "code",
   "execution_count": null,
   "metadata": {},
   "outputs": [],
   "source": [
    "f = open(\"Data-LoL-Research-Simplified/user1/BothOut\", \"r\")\n",
    "text = f.read()"
   ]
  },
  {
   "cell_type": "code",
   "execution_count": null,
   "metadata": {},
   "outputs": [],
   "source": [
    "with open('text','r') as f:\n",
    "    text = f.read()\n",
    "    print(text)"
   ]
  }
 ],
 "metadata": {
  "kernelspec": {
   "display_name": "Python 3",
   "language": "python",
   "name": "python3"
  },
  "language_info": {
   "codemirror_mode": {
    "name": "ipython",
    "version": 3
   },
   "file_extension": ".py",
   "mimetype": "text/x-python",
   "name": "python",
   "nbconvert_exporter": "python",
   "pygments_lexer": "ipython3",
   "version": "3.8.3"
  }
 },
 "nbformat": 4,
 "nbformat_minor": 2
}
